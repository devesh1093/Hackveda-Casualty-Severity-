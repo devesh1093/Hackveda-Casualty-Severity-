{
 "cells": [
  {
   "cell_type": "code",
   "execution_count": 1,
   "metadata": {
    "id": "0f84B4Zq5FJ8"
   },
   "outputs": [],
   "source": [
    "\n",
    "#read the data\n",
    "import pandas as pd\n",
    "data=pd.read_csv(\"https://raw.githubusercontent.com/devesh1093/Hackveda-Casualty-Severity-/main/Accident_Dataset_prepared.csv\")\n",
    "\n"
   ]
  },
  {
   "cell_type": "code",
   "execution_count": 2,
   "metadata": {
    "id": "tALWVFcv58LF"
   },
   "outputs": [
    {
     "data": {
      "text/html": [
       "<div>\n",
       "<style scoped>\n",
       "    .dataframe tbody tr th:only-of-type {\n",
       "        vertical-align: middle;\n",
       "    }\n",
       "\n",
       "    .dataframe tbody tr th {\n",
       "        vertical-align: top;\n",
       "    }\n",
       "\n",
       "    .dataframe thead th {\n",
       "        text-align: right;\n",
       "    }\n",
       "</style>\n",
       "<table border=\"1\" class=\"dataframe\">\n",
       "  <thead>\n",
       "    <tr style=\"text-align: right;\">\n",
       "      <th></th>\n",
       "      <th>Number of Vehicles</th>\n",
       "      <th>Road Surface</th>\n",
       "      <th>Lighting Conditions</th>\n",
       "      <th>Weather Conditions</th>\n",
       "      <th>Casualty Victim</th>\n",
       "      <th>Casualty Severity</th>\n",
       "      <th>Sex of Casualty</th>\n",
       "      <th>Age of Casualty</th>\n",
       "      <th>Type of Vehicle</th>\n",
       "    </tr>\n",
       "  </thead>\n",
       "  <tbody>\n",
       "    <tr>\n",
       "      <th>0</th>\n",
       "      <td>5</td>\n",
       "      <td>3</td>\n",
       "      <td>1</td>\n",
       "      <td>4</td>\n",
       "      <td>1</td>\n",
       "      <td>1</td>\n",
       "      <td>1</td>\n",
       "      <td>36</td>\n",
       "      <td>6</td>\n",
       "    </tr>\n",
       "    <tr>\n",
       "      <th>1</th>\n",
       "      <td>5</td>\n",
       "      <td>3</td>\n",
       "      <td>1</td>\n",
       "      <td>4</td>\n",
       "      <td>2</td>\n",
       "      <td>1</td>\n",
       "      <td>1</td>\n",
       "      <td>27</td>\n",
       "      <td>6</td>\n",
       "    </tr>\n",
       "    <tr>\n",
       "      <th>2</th>\n",
       "      <td>1</td>\n",
       "      <td>2</td>\n",
       "      <td>2</td>\n",
       "      <td>1</td>\n",
       "      <td>3</td>\n",
       "      <td>2</td>\n",
       "      <td>1</td>\n",
       "      <td>68</td>\n",
       "      <td>4</td>\n",
       "    </tr>\n",
       "  </tbody>\n",
       "</table>\n",
       "</div>"
      ],
      "text/plain": [
       "   Number of Vehicles  Road Surface  Lighting Conditions  Weather Conditions  \\\n",
       "0                   5             3                    1                   4   \n",
       "1                   5             3                    1                   4   \n",
       "2                   1             2                    2                   1   \n",
       "\n",
       "   Casualty Victim  Casualty Severity  Sex of Casualty  Age of Casualty  \\\n",
       "0                1                  1                1               36   \n",
       "1                2                  1                1               27   \n",
       "2                3                  2                1               68   \n",
       "\n",
       "   Type of Vehicle  \n",
       "0                6  \n",
       "1                6  \n",
       "2                4  "
      ]
     },
     "execution_count": 2,
     "metadata": {},
     "output_type": "execute_result"
    }
   ],
   "source": [
    "data.drop(\"1st Road Class\",axis=1,inplace=True)\n",
    "data.head(3)"
   ]
  },
  {
   "cell_type": "code",
   "execution_count": 3,
   "metadata": {
    "id": "VIbhI2b9sF9m"
   },
   "outputs": [
    {
     "data": {
      "text/plain": [
       "Index(['Number of Vehicles', 'Road Surface', 'Lighting Conditions',\n",
       "       'Weather Conditions', 'Casualty Victim', 'Casualty Severity',\n",
       "       'Sex of Casualty', 'Age of Casualty', 'Type of Vehicle'],\n",
       "      dtype='object')"
      ]
     },
     "execution_count": 3,
     "metadata": {},
     "output_type": "execute_result"
    }
   ],
   "source": [
    "data.columns"
   ]
  },
  {
   "cell_type": "code",
   "execution_count": 4,
   "metadata": {
    "id": "5tBcmmOQsJo7"
   },
   "outputs": [],
   "source": [
    "Y= data[\"Casualty Severity\"]#dependent\n",
    "independent_variables=data.columns\n",
    "independent_variables= independent_variables.delete(5)\n",
    "X=data[independent_variables]#training data"
   ]
  },
  {
   "cell_type": "code",
   "execution_count": 5,
   "metadata": {
    "id": "ZMPFuJcFsR8i"
   },
   "outputs": [
    {
     "data": {
      "text/plain": [
       "AgglomerativeClustering(n_clusters=3)"
      ]
     },
     "execution_count": 5,
     "metadata": {},
     "output_type": "execute_result"
    }
   ],
   "source": [
    "#Perform Clustering to prepare a clustered dataset\n",
    "from sklearn.cluster import AgglomerativeClustering\n",
    "ag_cluster= AgglomerativeClustering(n_clusters=3)\n",
    "\n",
    "#Train the agglomerative clustering model\n",
    "ag_cluster.fit(X)"
   ]
  },
  {
   "cell_type": "code",
   "execution_count": 6,
   "metadata": {
    "id": "NC3KguWOsmTJ"
   },
   "outputs": [],
   "source": [
    "#Predict the cluster label\n",
    "data[\"Cluster Labels\"]=ag_cluster.fit_predict(X)"
   ]
  },
  {
   "cell_type": "code",
   "execution_count": 7,
   "metadata": {
    "id": "og-lGlqusyfT"
   },
   "outputs": [],
   "source": [
    "#Select dependent and independent variables\n",
    "Y= data[\"Casualty Severity\"]#dependent\n",
    "independent_variables=data.columns\n",
    "independent_variables= independent_variables.delete(5)\n",
    "X=data[independent_variables]#training data\n"
   ]
  },
  {
   "cell_type": "code",
   "execution_count": 8,
   "metadata": {
    "id": "0Uir7yMutPEP"
   },
   "outputs": [
    {
     "data": {
      "text/plain": [
       "GradientBoostingClassifier(random_state=1337)"
      ]
     },
     "execution_count": 8,
     "metadata": {},
     "output_type": "execute_result"
    }
   ],
   "source": [
    "#Classify using Gradient Boosting Trees\n",
    "from sklearn.ensemble import GradientBoostingClassifier\n",
    "gbc= GradientBoostingClassifier(\n",
    "                    random_state = 1337,\n",
    "                    verbose = 0,\n",
    "                    n_estimators = 100,\n",
    "                    learning_rate = 0.1,\n",
    "                    loss = 'deviance',\n",
    "                    max_depth = 3\n",
    "                   )\n",
    "gbc.fit(X,Y)\n"
   ]
  },
  {
   "cell_type": "code",
   "execution_count": 9,
   "metadata": {
    "id": "NXwJx2XatiPJ"
   },
   "outputs": [
    {
     "data": {
      "text/html": [
       "<div>\n",
       "<style scoped>\n",
       "    .dataframe tbody tr th:only-of-type {\n",
       "        vertical-align: middle;\n",
       "    }\n",
       "\n",
       "    .dataframe tbody tr th {\n",
       "        vertical-align: top;\n",
       "    }\n",
       "\n",
       "    .dataframe thead th {\n",
       "        text-align: right;\n",
       "    }\n",
       "</style>\n",
       "<table border=\"1\" class=\"dataframe\">\n",
       "  <thead>\n",
       "    <tr style=\"text-align: right;\">\n",
       "      <th></th>\n",
       "      <th>Number of Vehicles</th>\n",
       "      <th>Road Surface</th>\n",
       "      <th>Lighting Conditions</th>\n",
       "      <th>Weather Conditions</th>\n",
       "      <th>Casualty Victim</th>\n",
       "      <th>Casualty Severity</th>\n",
       "      <th>Sex of Casualty</th>\n",
       "      <th>Age of Casualty</th>\n",
       "      <th>Type of Vehicle</th>\n",
       "      <th>Cluster Labels</th>\n",
       "      <th>Predicted Casualty Severity</th>\n",
       "    </tr>\n",
       "  </thead>\n",
       "  <tbody>\n",
       "    <tr>\n",
       "      <th>0</th>\n",
       "      <td>5</td>\n",
       "      <td>3</td>\n",
       "      <td>1</td>\n",
       "      <td>4</td>\n",
       "      <td>1</td>\n",
       "      <td>1</td>\n",
       "      <td>1</td>\n",
       "      <td>36</td>\n",
       "      <td>6</td>\n",
       "      <td>0</td>\n",
       "      <td>1</td>\n",
       "    </tr>\n",
       "    <tr>\n",
       "      <th>1</th>\n",
       "      <td>5</td>\n",
       "      <td>3</td>\n",
       "      <td>1</td>\n",
       "      <td>4</td>\n",
       "      <td>2</td>\n",
       "      <td>1</td>\n",
       "      <td>1</td>\n",
       "      <td>27</td>\n",
       "      <td>6</td>\n",
       "      <td>0</td>\n",
       "      <td>1</td>\n",
       "    </tr>\n",
       "    <tr>\n",
       "      <th>2</th>\n",
       "      <td>1</td>\n",
       "      <td>2</td>\n",
       "      <td>2</td>\n",
       "      <td>1</td>\n",
       "      <td>3</td>\n",
       "      <td>2</td>\n",
       "      <td>1</td>\n",
       "      <td>68</td>\n",
       "      <td>4</td>\n",
       "      <td>2</td>\n",
       "      <td>1</td>\n",
       "    </tr>\n",
       "  </tbody>\n",
       "</table>\n",
       "</div>"
      ],
      "text/plain": [
       "   Number of Vehicles  Road Surface  Lighting Conditions  Weather Conditions  \\\n",
       "0                   5             3                    1                   4   \n",
       "1                   5             3                    1                   4   \n",
       "2                   1             2                    2                   1   \n",
       "\n",
       "   Casualty Victim  Casualty Severity  Sex of Casualty  Age of Casualty  \\\n",
       "0                1                  1                1               36   \n",
       "1                2                  1                1               27   \n",
       "2                3                  2                1               68   \n",
       "\n",
       "   Type of Vehicle  Cluster Labels  Predicted Casualty Severity  \n",
       "0                6               0                            1  \n",
       "1                6               0                            1  \n",
       "2                4               2                            1  "
      ]
     },
     "execution_count": 9,
     "metadata": {},
     "output_type": "execute_result"
    }
   ],
   "source": [
    "#Predict using GBC Classifier\n",
    "data[\"Predicted Casualty Severity\" ]=gbc.predict(X)\n",
    "data.head(3)"
   ]
  },
  {
   "cell_type": "code",
   "execution_count": 10,
   "metadata": {
    "id": "QqPJPZfNtvFA"
   },
   "outputs": [
    {
     "data": {
      "text/plain": [
       "Index(['Number of Vehicles', 'Road Surface', 'Lighting Conditions',\n",
       "       'Weather Conditions', 'Casualty Victim', 'Sex of Casualty',\n",
       "       'Age of Casualty', 'Type of Vehicle'],\n",
       "      dtype='object')"
      ]
     },
     "execution_count": 10,
     "metadata": {},
     "output_type": "execute_result"
    }
   ],
   "source": [
    "# Take a user input and predict casualty severity\n",
    "independent_variables= independent_variables.delete(8)\n",
    "independent_variables"
   ]
  },
  {
   "cell_type": "code",
   "execution_count": 11,
   "metadata": {
    "id": "OneSuVuHuMUn"
   },
   "outputs": [
    {
     "name": "stdout",
     "output_type": "stream",
     "text": [
      "Enter Number of Vehicles: 6\n",
      "Enter Road Surface: 1\n",
      "Enter Lighting Conditions: 1\n",
      "Enter Weather Conditions: 1\n",
      "Enter Casualty Victim: 1\n",
      "Enter Sex of Casualty: 1\n",
      "Enter Age of Casualty: 20\n",
      "Enter Type of Vehicle: 4\n"
     ]
    }
   ],
   "source": [
    "user_input={}\n",
    "for var in independent_variables:\n",
    "  temp =input(\"Enter \"+var+\": \")\n",
    "  user_input[var]=temp\n",
    "\n"
   ]
  },
  {
   "cell_type": "code",
   "execution_count": 12,
   "metadata": {
    "id": "84y7WvCiuPeG"
   },
   "outputs": [],
   "source": [
    "#Calculate the cluster labels\n",
    "#Calculate the cluster labels\n",
    "index= X.shape[0]\n",
    "user_df=pd.DataFrame(data=user_input,index=[index],columns=independent_variables)\n",
    "X=pd.concat([X.drop(\"Cluster Labels\", axis=1),user_df],axis=0)"
   ]
  },
  {
   "cell_type": "code",
   "execution_count": 13,
   "metadata": {
    "id": "blR3MAhjv5h_"
   },
   "outputs": [
    {
     "data": {
      "text/html": [
       "<div>\n",
       "<style scoped>\n",
       "    .dataframe tbody tr th:only-of-type {\n",
       "        vertical-align: middle;\n",
       "    }\n",
       "\n",
       "    .dataframe tbody tr th {\n",
       "        vertical-align: top;\n",
       "    }\n",
       "\n",
       "    .dataframe thead th {\n",
       "        text-align: right;\n",
       "    }\n",
       "</style>\n",
       "<table border=\"1\" class=\"dataframe\">\n",
       "  <thead>\n",
       "    <tr style=\"text-align: right;\">\n",
       "      <th></th>\n",
       "      <th>Number of Vehicles</th>\n",
       "      <th>Road Surface</th>\n",
       "      <th>Lighting Conditions</th>\n",
       "      <th>Weather Conditions</th>\n",
       "      <th>Casualty Victim</th>\n",
       "      <th>Sex of Casualty</th>\n",
       "      <th>Age of Casualty</th>\n",
       "      <th>Type of Vehicle</th>\n",
       "      <th>Cluster Labels</th>\n",
       "    </tr>\n",
       "  </thead>\n",
       "  <tbody>\n",
       "    <tr>\n",
       "      <th>2664</th>\n",
       "      <td>6</td>\n",
       "      <td>1</td>\n",
       "      <td>1</td>\n",
       "      <td>1</td>\n",
       "      <td>1</td>\n",
       "      <td>1</td>\n",
       "      <td>20</td>\n",
       "      <td>4</td>\n",
       "      <td>0</td>\n",
       "    </tr>\n",
       "  </tbody>\n",
       "</table>\n",
       "</div>"
      ],
      "text/plain": [
       "     Number of Vehicles Road Surface Lighting Conditions Weather Conditions  \\\n",
       "2664                  6            1                   1                  1   \n",
       "\n",
       "     Casualty Victim Sex of Casualty Age of Casualty Type of Vehicle  \\\n",
       "2664               1               1              20               4   \n",
       "\n",
       "      Cluster Labels  \n",
       "2664               0  "
      ]
     },
     "execution_count": 13,
     "metadata": {},
     "output_type": "execute_result"
    }
   ],
   "source": [
    "X[\"Cluster Labels\"]=ag_cluster.fit_predict(X)\n",
    "X.tail(1)"
   ]
  },
  {
   "cell_type": "code",
   "execution_count": 20,
   "metadata": {},
   "outputs": [
    {
     "name": "stdout",
     "output_type": "stream",
     "text": [
      "Casuality Severity is  1\n",
      "Casualty Severity is Slight\n"
     ]
    }
   ],
   "source": [
    "user_request=X.tail(1)\n",
    "user_request \n",
    "severity=gbc.predict(user_request )\n",
    "severity=severity[0]\n",
    "print(\"Casuality Severity is \", severity)\n",
    "if severity==1:\n",
    "    print(\"Casualty Severity is Slight\")\n",
    "elif severity==2:\n",
    "    print(\"Casualty Severity is Severe\")\n",
    "elif severity==3:\n",
    "    print(\"Casualty Severity is Fatal\")\n",
    "    "
   ]
  },
  {
   "cell_type": "code",
   "execution_count": null,
   "metadata": {},
   "outputs": [],
   "source": []
  },
  {
   "cell_type": "code",
   "execution_count": null,
   "metadata": {},
   "outputs": [],
   "source": []
  },
  {
   "cell_type": "code",
   "execution_count": null,
   "metadata": {},
   "outputs": [],
   "source": []
  }
 ],
 "metadata": {
  "colab": {
   "collapsed_sections": [],
   "name": "Casualty Severity Prediction Model.ipynb",
   "provenance": []
  },
  "kernelspec": {
   "display_name": "Python 3",
   "language": "python",
   "name": "python3"
  },
  "language_info": {
   "codemirror_mode": {
    "name": "ipython",
    "version": 3
   },
   "file_extension": ".py",
   "mimetype": "text/x-python",
   "name": "python",
   "nbconvert_exporter": "python",
   "pygments_lexer": "ipython3",
   "version": "3.8.5"
  }
 },
 "nbformat": 4,
 "nbformat_minor": 1
}
